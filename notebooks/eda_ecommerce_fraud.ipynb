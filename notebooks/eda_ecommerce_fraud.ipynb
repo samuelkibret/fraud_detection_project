{
 "cells": [
  {
   "cell_type": "markdown",
   "id": "cbc1cd86",
   "metadata": {},
   "source": [
    "# 1. Project Root and Importing statements"
   ]
  },
  {
   "cell_type": "code",
   "execution_count": 3,
   "id": "19544fe5",
   "metadata": {},
   "outputs": [
    {
     "name": "stdout",
     "output_type": "stream",
     "text": [
      "'c:\\Users\\skibret\\Downloads\\KAIM\\Week 8\\Project\\fraud_detection_project' already in sys.path.\n"
     ]
    }
   ],
   "source": [
    "# notebooks/eda_ecommerce_fraud.ipynb - Cell 1: Add project root to path\n",
    "\n",
    "import os\n",
    "import sys\n",
    "\n",
    "# Get the current working directory of the notebook (e.g., 'fraud_detection_project/notebooks/')\n",
    "current_dir = os.getcwd()\n",
    "# Get the parent directory (which is 'fraud_detection_project/')\n",
    "project_root = os.path.dirname(current_dir)\n",
    "\n",
    "# Add the project root to sys.path so Python can find 'src'\n",
    "if project_root not in sys.path:\n",
    "    sys.path.append(project_root)\n",
    "    print(f\"Added '{project_root}' to sys.path.\")\n",
    "else:\n",
    "    print(f\"'{project_root}' already in sys.path.\")\n",
    "# notebooks/eda_ecommerce_fraud.ipynb - Cell 2: Import Statements\n",
    "\n",
    "import pandas as pd\n",
    "import numpy as np\n",
    "import matplotlib.pyplot as plt\n",
    "import seaborn as sns\n",
    "\n",
    "# Import functions from our data_preprocessing.py script\n",
    "from src.data_preprocessing import (\n",
    "    load_fraud_data,\n",
    "    load_ip_country_data,\n",
    "    merge_fraud_with_ip_data,\n",
    "    handle_missing_values,\n",
    "    remove_duplicates,\n",
    "    correct_data_types,\n",
    "    create_time_features,\n",
    "    create_transaction_frequency_velocity\n",
    ")\n",
    "\n",
    "# Configure plot styles for better visualization\n",
    "sns.set_style(\"whitegrid\")\n",
    "plt.rcParams['figure.figsize'] = (10, 6)\n",
    "plt.rcParams['font.size'] = 12"
   ]
  },
  {
   "cell_type": "markdown",
   "id": "1c1f9aa0",
   "metadata": {},
   "source": [
    "# 2. Load Raw Data"
   ]
  },
  {
   "cell_type": "code",
   "execution_count": 4,
   "id": "9251ab84",
   "metadata": {},
   "outputs": [
    {
     "name": "stderr",
     "output_type": "stream",
     "text": [
      "2025-07-20 15:40:59,526 - ERROR - Fraud_Data.csv not found at data/raw/Fraud_Data.csv. Please ensure the file exists and path is correct.\n",
      "2025-07-20 15:40:59,527 - ERROR - IpAddress_to_Country.csv not found at data/raw/IpAddress_to_Country.csv. Please ensure the file exists and path is correct.\n"
     ]
    },
    {
     "name": "stdout",
     "output_type": "stream",
     "text": [
      "--- Loading E-commerce Fraud Data ---\n",
      "Failed to load Fraud_Data.csv. Please check the path and file existence.\n",
      "Failed to load IpAddress_to_Country.csv. Please check the path and file existence.\n"
     ]
    }
   ],
   "source": [
    "# notebooks/eda_ecommerce_fraud.ipynb - Cell 3: Load Raw Data\n",
    "\n",
    "print(\"--- Loading E-commerce Fraud Data ---\")\n",
    "fraud_df = load_fraud_data()\n",
    "ip_country_df = load_ip_country_data()\n",
    "\n",
    "if fraud_df is not None:\n",
    "    print(\"\\nFraud_Data.csv loaded successfully.\")\n",
    "    print(\"Shape:\", fraud_df.shape)\n",
    "    print(\"Columns:\", fraud_df.columns.tolist())\n",
    "    print(\"\\nFirst 5 rows:\")\n",
    "    print(fraud_df.head())\n",
    "else:\n",
    "    print(\"Failed to load Fraud_Data.csv. Please check the path and file existence.\")\n",
    "\n",
    "if ip_country_df is not None:\n",
    "    print(\"\\nIpAddress_to_Country.csv loaded successfully.\")\n",
    "    print(\"Shape:\", ip_country_df.shape)\n",
    "    print(\"Columns:\", ip_country_df.columns.tolist())\n",
    "    print(\"\\nFirst 5 rows:\")\n",
    "    print(ip_country_df.head())\n",
    "else:\n",
    "    print(\"Failed to load IpAddress_to_Country.csv. Please check the path and file existence.\")"
   ]
  },
  {
   "cell_type": "markdown",
   "id": "8eff5f43",
   "metadata": {},
   "source": [
    "# 3.  Initial Data Cleaning & Type Correction"
   ]
  },
  {
   "cell_type": "code",
   "execution_count": 5,
   "id": "81a81187",
   "metadata": {},
   "outputs": [
    {
     "name": "stdout",
     "output_type": "stream",
     "text": [
      "Fraud_Data not loaded. Skipping initial cleaning.\n"
     ]
    }
   ],
   "source": [
    "# notebooks/eda_ecommerce_fraud.ipynb - Cell 4: Initial Data Cleaning & Type Correction\n",
    "\n",
    "if fraud_df is not None:\n",
    "    print(\"\\n--- Initial Cleaning & Type Correction for Fraud_Data ---\")\n",
    "\n",
    "    # Convert timestamp columns to datetime objects early for time-based features\n",
    "    fraud_df = correct_data_types(fraud_df, datetime_cols=['signup_time', 'purchase_time'])\n",
    "\n",
    "    # Handle missing values in critical columns for merging/analysis\n",
    "    # For initial EDA, let's drop rows where IP address is missing as it's crucial for geolocation.\n",
    "    # We'll refine the strategy for other missing values later.\n",
    "    initial_rows = fraud_df.shape[0]\n",
    "    if 'ip_address' in fraud_df.columns:\n",
    "        fraud_df_cleaned = fraud_df.dropna(subset=['ip_address']).copy()\n",
    "        print(f\"Dropped {initial_rows - fraud_df_cleaned.shape[0]} rows with missing IP addresses.\")\n",
    "    else:\n",
    "        print(\"Warning: 'ip_address' column not found. Skipping IP-based missing value handling.\")\n",
    "        fraud_df_cleaned = fraud_df.copy()\n",
    "\n",
    "    # Remove duplicates\n",
    "    fraud_df_cleaned = remove_duplicates(fraud_df_cleaned)\n",
    "\n",
    "    print(\"\\nFraud_Data after initial cleaning and type correction:\")\n",
    "    fraud_df_cleaned.info()\n",
    "    print(\"\\nMissing values remaining (if any):\\n\", fraud_df_cleaned.isnull().sum())\n",
    "else:\n",
    "    print(\"Fraud_Data not loaded. Skipping initial cleaning.\")"
   ]
  },
  {
   "cell_type": "markdown",
   "id": "c05b21b6",
   "metadata": {},
   "source": [
    "# 4. Merge with IP Address Data"
   ]
  },
  {
   "cell_type": "code",
   "execution_count": 6,
   "id": "a7e66230",
   "metadata": {},
   "outputs": [
    {
     "ename": "NameError",
     "evalue": "name 'fraud_df_cleaned' is not defined",
     "output_type": "error",
     "traceback": [
      "\u001b[31m---------------------------------------------------------------------------\u001b[39m",
      "\u001b[31mNameError\u001b[39m                                 Traceback (most recent call last)",
      "\u001b[36mCell\u001b[39m\u001b[36m \u001b[39m\u001b[32mIn[6]\u001b[39m\u001b[32m, line 3\u001b[39m\n\u001b[32m      1\u001b[39m \u001b[38;5;66;03m# notebooks/eda_ecommerce_fraud.ipynb - Cell 5: Merge with IP Address Data\u001b[39;00m\n\u001b[32m----> \u001b[39m\u001b[32m3\u001b[39m \u001b[38;5;28;01mif\u001b[39;00m \u001b[43mfraud_df_cleaned\u001b[49m \u001b[38;5;129;01mis\u001b[39;00m \u001b[38;5;129;01mnot\u001b[39;00m \u001b[38;5;28;01mNone\u001b[39;00m \u001b[38;5;129;01mand\u001b[39;00m ip_country_df \u001b[38;5;129;01mis\u001b[39;00m \u001b[38;5;129;01mnot\u001b[39;00m \u001b[38;5;28;01mNone\u001b[39;00m:\n\u001b[32m      4\u001b[39m     \u001b[38;5;28mprint\u001b[39m(\u001b[33m\"\u001b[39m\u001b[38;5;130;01m\\n\u001b[39;00m\u001b[33m--- Merging Fraud Data with IP Address to Country Mapping ---\u001b[39m\u001b[33m\"\u001b[39m)\n\u001b[32m      5\u001b[39m     merged_fraud_df = merge_fraud_with_ip_data(fraud_df_cleaned, ip_country_df)\n",
      "\u001b[31mNameError\u001b[39m: name 'fraud_df_cleaned' is not defined"
     ]
    }
   ],
   "source": [
    "# notebooks/eda_ecommerce_fraud.ipynb - Cell 5: Merge with IP Address Data\n",
    "\n",
    "if fraud_df_cleaned is not None and ip_country_df is not None:\n",
    "    print(\"\\n--- Merging Fraud Data with IP Address to Country Mapping ---\")\n",
    "    merged_fraud_df = merge_fraud_with_ip_data(fraud_df_cleaned, ip_country_df)\n",
    "\n",
    "    if merged_fraud_df is not None:\n",
    "        print(\"\\nMerged Fraud Data Info:\")\n",
    "        merged_fraud_df.info()\n",
    "        print(\"\\nMerged Fraud Data Head:\")\n",
    "        print(merged_fraud_df.head())\n",
    "        print(\"\\nValue counts for 'country' after merge (top 10):\")\n",
    "        # Ensure 'country' column exists before trying to access it\n",
    "        if 'country' in merged_fraud_df.columns:\n",
    "            print(merged_fraud_df['country'].value_counts().head(10))\n",
    "        else:\n",
    "            print(\"Warning: 'country' column not found in merged DataFrame.\")\n",
    "    else:\n",
    "        print(\"Failed to merge fraud data with IP country data. Check logs for details.\")\n",
    "else:\n",
    "    print(\"One or both dataframes (fraud_df_cleaned, ip_country_df) are not available for merging.\")"
   ]
  },
  {
   "cell_type": "markdown",
   "id": "63484952",
   "metadata": {},
   "source": [
    "# 5.  EDA - Feature Engineering (Time-based & Transaction Frequency/Velocity)"
   ]
  },
  {
   "cell_type": "code",
   "execution_count": null,
   "id": "fd836d4e",
   "metadata": {},
   "outputs": [],
   "source": [
    "# notebooks/eda_ecommerce_fraud.ipynb - Cell 6: Feature Engineering\n",
    "\n",
    "if merged_fraud_df is not None:\n",
    "    print(\"\\n--- Creating Time-based Features ---\")\n",
    "    merged_fraud_df = create_time_features(merged_fraud_df, 'purchase_time')\n",
    "\n",
    "    print(\"\\n--- Creating Transaction Frequency & Velocity Features ---\")\n",
    "    # Ensure 'user_id' and 'purchase_value' exist for these features\n",
    "    if 'user_id' in merged_fraud_df.columns and 'purchase_value' in merged_fraud_df.columns:\n",
    "        merged_fraud_df = create_transaction_frequency_velocity(merged_fraud_df, 'user_id', 'purchase_time', window_days=7)\n",
    "    else:\n",
    "        print(\"Warning: 'user_id' or 'purchase_value' not found. Skipping frequency/velocity features.\")\n",
    "\n",
    "    print(\"\\nMerged Fraud Data with All New Features Info:\")\n",
    "    merged_fraud_df.info()\n",
    "    print(\"\\nMerged Fraud Data with All New Features Head:\")\n",
    "    print(merged_fraud_df.head())\n",
    "else:\n",
    "    print(\"Merged fraud dataframe not available for feature engineering.\")"
   ]
  },
  {
   "cell_type": "markdown",
   "id": "db167e5f",
   "metadata": {},
   "source": [
    "# 6. EDA - Class Distribution"
   ]
  },
  {
   "cell_type": "code",
   "execution_count": null,
   "id": "139ae3e4",
   "metadata": {},
   "outputs": [],
   "source": [
    "# notebooks/eda_ecommerce_fraud.ipynb - Cell 7: EDA - Class Distribution\n",
    "\n",
    "if merged_fraud_df is not None:\n",
    "    plt.figure(figsize=(7, 5))\n",
    "    sns.countplot(x='class', data=merged_fraud_df, palette='viridis')\n",
    "    plt.title('Class Distribution (0: Non-Fraud, 1: Fraud)', fontsize=16)\n",
    "    plt.xlabel('Class', fontsize=14)\n",
    "    plt.ylabel('Count', fontsize=14)\n",
    "    plt.xticks(ticks=[0, 1], labels=['Non-Fraud (0)', 'Fraud (1)'])\n",
    "    plt.show()\n",
    "    print(\"\\nClass distribution (normalized):\\n\", merged_fraud_df['class'].value_counts(normalize=True))\n",
    "else:\n",
    "    print(\"DataFrame not available for plotting.\")"
   ]
  },
  {
   "cell_type": "markdown",
   "id": "c3622f89",
   "metadata": {},
   "source": [
    "# 7. EDA - Purchase Value Distribution & vs. Class"
   ]
  },
  {
   "cell_type": "code",
   "execution_count": null,
   "id": "42ae9b01",
   "metadata": {},
   "outputs": [],
   "source": [
    "# notebooks/eda_ecommerce_fraud.ipynb - Cell 8: EDA - Purchase Value\n",
    "\n",
    "if merged_fraud_df is not None:\n",
    "    fig, axes = plt.subplots(1, 2, figsize=(16, 6))\n",
    "\n",
    "    # Distribution\n",
    "    sns.histplot(merged_fraud_df['purchase_value'], bins=50, kde=True, ax=axes[0], color='skyblue')\n",
    "    axes[0].set_title('Distribution of Purchase Value', fontsize=16)\n",
    "    axes[0].set_xlabel('Purchase Value', fontsize=14)\n",
    "    axes[0].set_ylabel('Frequency', fontsize=14)\n",
    "\n",
    "    # Purchase Value vs. Class\n",
    "    sns.boxplot(x='class', y='purchase_value', data=merged_fraud_df, ax=axes[1], palette='pastel')\n",
    "    axes[1].set_title('Purchase Value by Class', fontsize=16)\n",
    "    axes[1].set_xlabel('Class', fontsize=14)\n",
    "    axes[1].set_ylabel('Purchase Value', fontsize=14)\n",
    "    axes[1].set_xticks(ticks=[0, 1], labels=['Non-Fraud (0)', 'Fraud (1)'])\n",
    "\n",
    "    plt.tight_layout()\n",
    "    plt.show()\n",
    "else:\n",
    "    print(\"DataFrame not available for plotting.\")"
   ]
  },
  {
   "cell_type": "markdown",
   "id": "b04dc6f9",
   "metadata": {},
   "source": [
    "# 8.  EDA - Age Distribution"
   ]
  },
  {
   "cell_type": "code",
   "execution_count": null,
   "id": "5d8613c7",
   "metadata": {},
   "outputs": [],
   "source": [
    "# notebooks/eda_ecommerce_fraud.ipynb - Cell 9: EDA - Age Distribution\n",
    "\n",
    "if merged_fraud_df is not None:\n",
    "    plt.figure(figsize=(10, 6))\n",
    "    sns.histplot(merged_fraud_df['age'], bins=30, kde=True, color='lightcoral')\n",
    "    plt.title('Distribution of Age', fontsize=16)\n",
    "    plt.xlabel('Age', fontsize=14)\n",
    "    plt.ylabel('Frequency', fontsize=14)\n",
    "    plt.show()\n",
    "else:\n",
    "    print(\"DataFrame not available for plotting.\")"
   ]
  },
  {
   "cell_type": "markdown",
   "id": "634b2597",
   "metadata": {},
   "source": [
    "# 9.   EDA - Fraud Rate by Source, Browser, Sex"
   ]
  },
  {
   "cell_type": "code",
   "execution_count": null,
   "id": "7e5f02d1",
   "metadata": {},
   "outputs": [],
   "source": [
    "# notebooks/eda_ecommerce_fraud.ipynb - Cell 10: EDA - Categorical Features\n",
    "\n",
    "if merged_fraud_df is not None:\n",
    "    fig, axes = plt.subplots(1, 3, figsize=(20, 6))\n",
    "\n",
    "    # Fraud rate by Source\n",
    "    sns.barplot(x='source', y='class', data=merged_fraud_df, estimator=np.mean, ax=axes[0], palette='coolwarm')\n",
    "    axes[0].set_title('Fraud Rate by Source', fontsize=16)\n",
    "    axes[0].set_ylabel('Fraud Rate', fontsize=14)\n",
    "    axes[0].set_xlabel('Source', fontsize=14)\n",
    "\n",
    "    # Fraud rate by Browser\n",
    "    sns.barplot(x='browser', y='class', data=merged_fraud_df, estimator=np.mean, ax=axes[1], palette='coolwarm')\n",
    "    axes[1].set_title('Fraud Rate by Browser', fontsize=16)\n",
    "    axes[1].set_ylabel('Fraud Rate', fontsize=14)\n",
    "    axes[1].set_xlabel('Browser', fontsize=14)\n",
    "\n",
    "    # Fraud rate by Sex\n",
    "    sns.barplot(x='sex', y='class', data=merged_fraud_df, estimator=np.mean, ax=axes[2], palette='coolwarm')\n",
    "    axes[2].set_title('Fraud Rate by Sex', fontsize=16)\n",
    "    axes[2].set_ylabel('Fraud Rate', fontsize=14)\n",
    "    axes[2].set_xlabel('Sex', fontsize=14)\n",
    "\n",
    "    plt.tight_layout()\n",
    "    plt.show()\n",
    "else:\n",
    "    print(\"DataFrame not available for plotting.\")"
   ]
  },
  {
   "cell_type": "markdown",
   "id": "040f3d21",
   "metadata": {},
   "source": [
    "# 10. EDA - Fraud Rate by Country (Top N)"
   ]
  },
  {
   "cell_type": "code",
   "execution_count": null,
   "id": "e749f2cd",
   "metadata": {},
   "outputs": [],
   "source": [
    "# notebooks/eda_ecommerce_fraud.ipynb - Cell 11: EDA - Fraud Rate by Country\n",
    "\n",
    "if merged_fraud_df is not None:\n",
    "    # Ensure 'country' column exists after merge\n",
    "    if 'country' in merged_fraud_df.columns:\n",
    "        country_fraud_rate = merged_fraud_df.groupby('country')['class'].mean().sort_values(ascending=False).head(10)\n",
    "        plt.figure(figsize=(12, 6))\n",
    "        sns.barplot(x=country_fraud_rate.index, y=country_fraud_rate.values, palette='plasma')\n",
    "        plt.title('Top 10 Countries by Fraud Rate', fontsize=16)\n",
    "        plt.xlabel('Country', fontsize=14)\n",
    "        plt.ylabel('Fraud Rate', fontsize=14)\n",
    "        plt.xticks(rotation=45, ha='right')\n",
    "        plt.tight_layout()\n",
    "        plt.show()\n",
    "    else:\n",
    "        print(\"'country' column not found. Ensure IP address merge was successful.\")\n",
    "else:\n",
    "    print(\"DataFrame not available for plotting.\")"
   ]
  },
  {
   "cell_type": "markdown",
   "id": "e615213f",
   "metadata": {},
   "source": [
    "# 11. EDA - Time-based Features vs. Fraud"
   ]
  },
  {
   "cell_type": "code",
   "execution_count": null,
   "id": "30089fae",
   "metadata": {},
   "outputs": [],
   "source": [
    "# notebooks/eda_ecommerce_fraud.ipynb - Cell 12: EDA - Time-based Features\n",
    "\n",
    "if merged_fraud_df is not None:\n",
    "    fig, axes = plt.subplots(1, 2, figsize=(18, 6))\n",
    "\n",
    "    # Fraud rate by Hour of Day\n",
    "    sns.barplot(x='hour_of_day', y='class', data=merged_fraud_df, estimator=np.mean, ax=axes[0], palette='viridis')\n",
    "    axes[0].set_title('Fraud Rate by Hour of Day', fontsize=16)\n",
    "    axes[0].set_xlabel('Hour of Day', fontsize=14)\n",
    "    axes[0].set_ylabel('Fraud Rate', fontsize=14)\n",
    "\n",
    "    # Fraud rate by Day of Week\n",
    "    sns.barplot(x='day_of_week', y='class', data=merged_fraud_df, estimator=np.mean, ax=axes[1], palette='viridis')\n",
    "    axes[1].set_title('Fraud Rate by Day of Week', fontsize=16)\n",
    "    axes[1].set_xlabel('Day of Week (0=Monday, 6=Sunday)', fontsize=14)\n",
    "    axes[1].set_ylabel('Fraud Rate', fontsize=14)\n",
    "\n",
    "    plt.tight_layout()\n",
    "    plt.show()\n",
    "\n",
    "    # Relationship between time_since_signup and fraud\n",
    "    if 'time_since_signup' in merged_fraud_df.columns:\n",
    "        plt.figure(figsize=(10, 6))\n",
    "        sns.histplot(data=merged_fraud_df, x='time_since_signup', hue='class', bins=50, kde=True, common_norm=False, palette='coolwarm')\n",
    "        plt.title('Distribution of Time Since Signup by Class', fontsize=16)\n",
    "        plt.xlabel('Time Since Signup (Days)', fontsize=14)\n",
    "        plt.ylabel('Frequency', fontsize=14)\n",
    "        plt.show()\n",
    "    else:\n",
    "        print(\"'time_since_signup' column not found. Skipping plot.\")\n",
    "else:\n",
    "    print(\"DataFrame not available for plotting.\")"
   ]
  },
  {
   "cell_type": "markdown",
   "id": "3053e8ae",
   "metadata": {},
   "source": [
    "# 12. Save Processed Data"
   ]
  },
  {
   "cell_type": "code",
   "execution_count": null,
   "id": "6f713b29",
   "metadata": {},
   "outputs": [],
   "source": [
    "# notebooks/eda_ecommerce_fraud.ipynb - Cell 13: Save Processed Data (Optional)\n",
    "\n",
    "if merged_fraud_df is not None:\n",
    "    # You might want to save this processed DataFrame for direct use in model building.\n",
    "    # Make sure 'data/' directory exists.\n",
    "    try:\n",
    "        # Create 'data/processed' directory if it doesn't exist\n",
    "        output_dir = 'data/processed'\n",
    "        os.makedirs(output_dir, exist_ok=True)\n",
    "        output_filepath = os.path.join(output_dir, 'processed_ecommerce_fraud.csv')\n",
    "        merged_fraud_df.to_csv(output_filepath, index=False)\n",
    "        print(f\"\\nProcessed e-commerce fraud data saved to {output_filepath}\")\n",
    "    except Exception as e:\n",
    "        print(f\"Error saving processed data: {e}\")\n",
    "else:\n",
    "    print(\"No processed DataFrame to save.\")"
   ]
  }
 ],
 "metadata": {
  "kernelspec": {
   "display_name": "venv8",
   "language": "python",
   "name": "python3"
  },
  "language_info": {
   "codemirror_mode": {
    "name": "ipython",
    "version": 3
   },
   "file_extension": ".py",
   "mimetype": "text/x-python",
   "name": "python",
   "nbconvert_exporter": "python",
   "pygments_lexer": "ipython3",
   "version": "3.13.3"
  }
 },
 "nbformat": 4,
 "nbformat_minor": 5
}
